{
 "cells": [
  {
   "cell_type": "code",
   "execution_count": 1,
   "metadata": {},
   "outputs": [],
   "source": [
    "import pandas as pd\n",
    "import numpy as np\n",
    "import openpyxl\n",
    "import os\n",
    "import glob"
   ]
  },
  {
   "cell_type": "code",
   "execution_count": 72,
   "metadata": {},
   "outputs": [],
   "source": [
    "# dhaka_weather_file =  \"../../Data/Processed Data/Weather Dataset/Dhaka.csv\"\n",
    "\n",
    "# dhaka_weather = pd.read_csv(dhaka_weather_file)\n",
    "\n",
    "# #convert the DATE column format from dd/mm/yyyy to yyyy/mm/dd\n",
    "# dhaka_weather['DATE'] = pd.to_datetime(dhaka_weather['DATE'], format='mixed').dt.strftime('%Y/%m/%d')\n",
    "\n",
    "# #save the updated data to the same file\n",
    "# dhaka_weather.to_csv(dhaka_weather_file, index=False)"
   ]
  },
  {
   "cell_type": "code",
   "execution_count": 3,
   "metadata": {},
   "outputs": [],
   "source": [
    "dengue_dfs = []\n",
    "\n",
    "dir = \"../../Data/Processed Data/standalone datasets/Districts Dataset\"\n",
    "district_filenames = []\n",
    "\n",
    "for file in os.listdir(dir):\n",
    "    if file.endswith(\".xlsx\"):\n",
    "        dengue_dfs.append(pd.read_excel(os.path.join(dir, file)))\n",
    "        # save removing the extension\n",
    "        district_filenames.append(file[:-5])"
   ]
  },
  {
   "cell_type": "code",
   "execution_count": 5,
   "metadata": {},
   "outputs": [
    {
     "name": "stdout",
     "output_type": "stream",
     "text": [
      "Bagerhat\n",
      "Bandarban\n",
      "Barguna\n",
      "Barisal\n",
      "Bhola\n",
      "Bogra\n",
      "Brahmanbaria\n",
      "Chadpur\n",
      "Chapai_Nawabganj\n",
      "Chittagong\n",
      "Chuadanga\n",
      "Coxsbazar\n",
      "Cumilla\n",
      "Dhaka\n",
      "Dinajpur\n",
      "Faridpur\n",
      "Feni\n",
      "Gaibandha\n",
      "Gazipur\n",
      "Gopalganj\n",
      "Hobigonj\n",
      "Jamalpur\n",
      "Jaypurhat\n",
      "Jessore\n",
      "Jhalkathi\n",
      "Jhenaidah\n",
      "Khagrachori\n",
      "Khulna\n",
      "Kishoregonj\n",
      "Kurigram\n",
      "Kushtia\n",
      "Lalmonirhat\n",
      "Laxmipur\n",
      "Madaripur\n",
      "Magura\n",
      "Manikganj\n",
      "Maulvibazar\n",
      "Meherpur\n",
      "Munsiganj\n",
      "Mymensingh\n",
      "Naogaon\n",
      "Narail\n",
      "Naraynganj\n",
      "Narsingdi\n",
      "Natore\n",
      "Netrokona\n",
      "Nilphamari\n",
      "Noakhali\n",
      "Pabna\n",
      "Panchagarh\n",
      "Patuakhali\n",
      "Pirojpur\n",
      "Rajbari\n",
      "Rajshahi\n",
      "Rangamati\n",
      "Rangpur\n",
      "Satkhira\n",
      "Shariatpur\n",
      "Sherpur\n",
      "Sirajgonj\n",
      "Sunamganj\n",
      "Sylhet\n",
      "Tangail\n",
      "Thakurgaon\n"
     ]
    }
   ],
   "source": [
    "for filename in district_filenames:\n",
    "    print(filename)"
   ]
  },
  {
   "cell_type": "code",
   "execution_count": 74,
   "metadata": {},
   "outputs": [],
   "source": [
    "weather_dfs = []\n",
    "\n",
    "dir = \"../../Data/Processed Data/Weather Dataset\"\n",
    "weather_filenames = []\n",
    "\n",
    "for file in os.listdir(dir):\n",
    "    if file.endswith(\".csv\"):\n",
    "        weather_dfs.append(pd.read_csv(os.path.join(dir, file)))\n",
    "        # save removing the extension\n",
    "        weather_filenames.append(file[:-4])"
   ]
  },
  {
   "cell_type": "code",
   "execution_count": 75,
   "metadata": {},
   "outputs": [
    {
     "name": "stdout",
     "output_type": "stream",
     "text": [
      "0\n"
     ]
    }
   ],
   "source": [
    "# see how many filenames are different between the two lists removing the extension\n",
    "print(len(set(district_filenames) - set(weather_filenames)))"
   ]
  },
  {
   "cell_type": "code",
   "execution_count": 76,
   "metadata": {},
   "outputs": [],
   "source": [
    "# print the filenames that are different in separate lines\n",
    "for filename in set(district_filenames) - set(weather_filenames):\n",
    "    print(filename)\n"
   ]
  },
  {
   "cell_type": "code",
   "execution_count": 77,
   "metadata": {},
   "outputs": [
    {
     "data": {
      "text/plain": [
       "(565, 2)"
      ]
     },
     "execution_count": 77,
     "metadata": {},
     "output_type": "execute_result"
    }
   ],
   "source": [
    "dengue_dfs[0].shape"
   ]
  },
  {
   "cell_type": "code",
   "execution_count": 78,
   "metadata": {},
   "outputs": [
    {
     "data": {
      "text/plain": [
       "(720, 5)"
      ]
     },
     "execution_count": 78,
     "metadata": {},
     "output_type": "execute_result"
    }
   ],
   "source": [
    "weather_dfs[0].shape"
   ]
  },
  {
   "cell_type": "code",
   "execution_count": 79,
   "metadata": {},
   "outputs": [
    {
     "data": {
      "text/html": [
       "<div>\n",
       "<style scoped>\n",
       "    .dataframe tbody tr th:only-of-type {\n",
       "        vertical-align: middle;\n",
       "    }\n",
       "\n",
       "    .dataframe tbody tr th {\n",
       "        vertical-align: top;\n",
       "    }\n",
       "\n",
       "    .dataframe thead th {\n",
       "        text-align: right;\n",
       "    }\n",
       "</style>\n",
       "<table border=\"1\" class=\"dataframe\">\n",
       "  <thead>\n",
       "    <tr style=\"text-align: right;\">\n",
       "      <th></th>\n",
       "      <th>DATE</th>\n",
       "      <th>T2MDEW</th>\n",
       "      <th>T2M</th>\n",
       "      <th>RH2M</th>\n",
       "      <th>WS10M</th>\n",
       "    </tr>\n",
       "  </thead>\n",
       "  <tbody>\n",
       "    <tr>\n",
       "      <th>0</th>\n",
       "      <td>2019/09/01</td>\n",
       "      <td>26.94</td>\n",
       "      <td>29.12</td>\n",
       "      <td>88.44</td>\n",
       "      <td>1.85</td>\n",
       "    </tr>\n",
       "    <tr>\n",
       "      <th>1</th>\n",
       "      <td>2019/09/02</td>\n",
       "      <td>26.30</td>\n",
       "      <td>28.57</td>\n",
       "      <td>88.00</td>\n",
       "      <td>3.16</td>\n",
       "    </tr>\n",
       "    <tr>\n",
       "      <th>2</th>\n",
       "      <td>2019/09/03</td>\n",
       "      <td>26.85</td>\n",
       "      <td>28.37</td>\n",
       "      <td>91.62</td>\n",
       "      <td>4.07</td>\n",
       "    </tr>\n",
       "    <tr>\n",
       "      <th>3</th>\n",
       "      <td>2019/09/04</td>\n",
       "      <td>26.94</td>\n",
       "      <td>28.35</td>\n",
       "      <td>92.12</td>\n",
       "      <td>3.87</td>\n",
       "    </tr>\n",
       "    <tr>\n",
       "      <th>4</th>\n",
       "      <td>2019/09/05</td>\n",
       "      <td>26.65</td>\n",
       "      <td>28.06</td>\n",
       "      <td>92.06</td>\n",
       "      <td>3.91</td>\n",
       "    </tr>\n",
       "  </tbody>\n",
       "</table>\n",
       "</div>"
      ],
      "text/plain": [
       "         DATE  T2MDEW    T2M   RH2M  WS10M\n",
       "0  2019/09/01   26.94  29.12  88.44   1.85\n",
       "1  2019/09/02   26.30  28.57  88.00   3.16\n",
       "2  2019/09/03   26.85  28.37  91.62   4.07\n",
       "3  2019/09/04   26.94  28.35  92.12   3.87\n",
       "4  2019/09/05   26.65  28.06  92.06   3.91"
      ]
     },
     "execution_count": 79,
     "metadata": {},
     "output_type": "execute_result"
    }
   ],
   "source": [
    "weather_dfs[0].head()"
   ]
  },
  {
   "cell_type": "code",
   "execution_count": 80,
   "metadata": {},
   "outputs": [
    {
     "data": {
      "text/plain": [
       "553"
      ]
     },
     "execution_count": 80,
     "metadata": {},
     "output_type": "execute_result"
    }
   ],
   "source": [
    "# how many dates are in both datasets: 'Date' column of dengue_dfs[0] and 'DATE' column of weather_dfs[0]\n",
    "len(set(dengue_dfs[0]['Date']) & set(weather_dfs[0]['DATE']))"
   ]
  },
  {
   "cell_type": "code",
   "execution_count": 81,
   "metadata": {},
   "outputs": [],
   "source": [
    "# save these common dates\n",
    "common_dates = list(set(dengue_dfs[0]['Date']) & set(weather_dfs[0]['DATE']))"
   ]
  },
  {
   "cell_type": "code",
   "execution_count": 82,
   "metadata": {},
   "outputs": [
    {
     "data": {
      "text/plain": [
       "(553, 6)"
      ]
     },
     "execution_count": 82,
     "metadata": {},
     "output_type": "execute_result"
    }
   ],
   "source": [
    "# now merge dengue_dfs and weather_dfs in this way\n",
    "# for each district in dengue_dfs, merge the corresponding district in weather_dfs\n",
    "# only keep the rows with the common dates\n",
    "# save the merged dataframes in a list\n",
    "# keep only one date column \n",
    "# final shape of each dataframe should be (553, 7)\n",
    "\n",
    "merged_dfs = []\n",
    "\n",
    "for i in range(len(dengue_dfs)):\n",
    "    merged_df = pd.merge(dengue_dfs[i], weather_dfs[i], how='inner', left_on='Date', right_on='DATE')\n",
    "    merged_df.drop('DATE', axis=1, inplace=True)\n",
    "    merged_dfs.append(merged_df)\n",
    "\n",
    "# check the shape of the first dataframe\n",
    "merged_dfs[0].shape"
   ]
  },
  {
   "cell_type": "code",
   "execution_count": 83,
   "metadata": {},
   "outputs": [
    {
     "name": "stdout",
     "output_type": "stream",
     "text": [
      "Saved Bagerhat.xlsx\n",
      "Saved Bandarban.xlsx\n",
      "Saved Barguna.xlsx\n",
      "Saved Barisal.xlsx\n",
      "Saved Bhola.xlsx\n",
      "Saved Bogra.xlsx\n",
      "Saved Brahmanbaria.xlsx\n",
      "Saved Chadpur.xlsx\n",
      "Saved Chapai_Nawabganj.xlsx\n",
      "Saved Chittagong.xlsx\n",
      "Saved Chuadanga.xlsx\n",
      "Saved Coxsbazar.xlsx\n",
      "Saved Cumilla.xlsx\n",
      "Saved Dhaka.xlsx\n",
      "Saved Dinajpur.xlsx\n",
      "Saved Faridpur.xlsx\n",
      "Saved Feni.xlsx\n",
      "Saved Gaibandha.xlsx\n",
      "Saved Gazipur.xlsx\n",
      "Saved Gopalganj.xlsx\n",
      "Saved Hobigonj.xlsx\n",
      "Saved Jamalpur.xlsx\n",
      "Saved Jaypurhat.xlsx\n",
      "Saved Jessore.xlsx\n",
      "Saved Jhalkathi.xlsx\n",
      "Saved Jhenaidah.xlsx\n",
      "Saved Khagrachori.xlsx\n",
      "Saved Khulna.xlsx\n",
      "Saved Kishoregonj.xlsx\n",
      "Saved Kurigram.xlsx\n",
      "Saved Kushtia.xlsx\n",
      "Saved Lalmonirhat.xlsx\n",
      "Saved Laxmipur.xlsx\n",
      "Saved Madaripur.xlsx\n",
      "Saved Magura.xlsx\n",
      "Saved Manikganj.xlsx\n",
      "Saved Maulvibazar.xlsx\n",
      "Saved Meherpur.xlsx\n",
      "Saved Munsiganj.xlsx\n",
      "Saved Mymensingh.xlsx\n",
      "Saved Naogaon.xlsx\n",
      "Saved Narail.xlsx\n",
      "Saved Naraynganj.xlsx\n",
      "Saved Narsingdi.xlsx\n",
      "Saved Natore.xlsx\n",
      "Saved Netrokona.xlsx\n",
      "Saved Nilphamari.xlsx\n",
      "Saved Noakhali.xlsx\n",
      "Saved Pabna.xlsx\n",
      "Saved Panchagarh.xlsx\n",
      "Saved Patuakhali.xlsx\n",
      "Saved Pirojpur.xlsx\n",
      "Saved Rajbari.xlsx\n",
      "Saved Rajshahi.xlsx\n",
      "Saved Rangamati.xlsx\n",
      "Saved Rangpur.xlsx\n",
      "Saved Satkhira.xlsx\n",
      "Saved Shariatpur.xlsx\n",
      "Saved Sherpur.xlsx\n",
      "Saved Sirajgonj.xlsx\n",
      "Saved Sunamganj.xlsx\n",
      "Saved Sylhet.xlsx\n",
      "Saved Tangail.xlsx\n",
      "Saved Thakurgaon.xlsx\n"
     ]
    }
   ],
   "source": [
    "# save the merged dataframes in separate excel files\n",
    "dir = \"../../Data/Processed Data/Districts weather combined\"\n",
    "\n",
    "for i in range(len(merged_dfs)):\n",
    "    merged_dfs[i].to_excel(os.path.join(dir, district_filenames[i] + \".xlsx\"), index=False)\n",
    "    print(\"Saved\", district_filenames[i] + \".xlsx\")"
   ]
  }
 ],
 "metadata": {
  "kernelspec": {
   "display_name": "base",
   "language": "python",
   "name": "python3"
  },
  "language_info": {
   "codemirror_mode": {
    "name": "ipython",
    "version": 3
   },
   "file_extension": ".py",
   "mimetype": "text/x-python",
   "name": "python",
   "nbconvert_exporter": "python",
   "pygments_lexer": "ipython3",
   "version": "3.12.4"
  }
 },
 "nbformat": 4,
 "nbformat_minor": 2
}
