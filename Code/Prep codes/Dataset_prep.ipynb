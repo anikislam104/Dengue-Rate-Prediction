{
 "cells": [
  {
   "cell_type": "code",
   "execution_count": 66,
   "metadata": {},
   "outputs": [],
   "source": [
    "import pandas as pd\n",
    "import numpy as np\n",
    "import matplotlib.pyplot as plt\n",
    "import os"
   ]
  },
  {
   "cell_type": "code",
   "execution_count": 67,
   "metadata": {},
   "outputs": [],
   "source": [
    "def read_excel(file):\n",
    "    df = pd.read_excel(file)\n",
    "    return df\n",
    "\n",
    "def read_files_and_coordinates(files_directory, coordinates_filepath):\n",
    "    dfs = []\n",
    "    filenames = []\n",
    "    for file in os.listdir(files_directory):\n",
    "        if file.endswith(\".xlsx\"):\n",
    "            df = read_excel(files_directory + file)\n",
    "            dfs.append(df)\n",
    "            filenames.append(file)\n",
    "    \n",
    "    coordinates_df = pd.read_excel(coordinates_filepath)\n",
    "\n",
    "    # store the values from Coordinates column from coordinates_df to a 2d array\n",
    "    coordinates = []\n",
    "    for i in range(len(coordinates_df)):\n",
    "        coordinates.append(coordinates_df.iloc[i, 1].split(','))\n",
    "        for j in range(len(coordinates[i])):\n",
    "            coordinates[i][j] = float(coordinates[i][j])\n",
    "\n",
    "    return dfs, coordinates, filenames\n"
   ]
  },
  {
   "cell_type": "code",
   "execution_count": 68,
   "metadata": {},
   "outputs": [],
   "source": [
    "# files_directory = \"../../Data/Processed data/\"\n",
    "# coordinates_filepath = \"../../Data/coordinates.xlsx\"\n",
    "# dfs, coordinates, filenames = read_files_and_coordinates(files_directory, coordinates_filepath)\n",
    "# print(\"Data read successfully\")\n",
    "# print(\"Number of files read: \", len(dfs))\n",
    "# print(\"Number of coordinates read: \", len(coordinates))"
   ]
  },
  {
   "cell_type": "code",
   "execution_count": 69,
   "metadata": {},
   "outputs": [],
   "source": [
    "def make_dfs_equal_length(dfs):\n",
    "    # store all the date values from all the dataframes in a single list, then keep only the unique values\n",
    "    dates = []\n",
    "    for i in range(len(dfs)):\n",
    "        dates.extend(dfs[i]['Date'])\n",
    "    dates = list(set(dates))\n",
    "    print(\"Number of unique dates: \", len(dates))\n",
    "    # print dates one in each line\n",
    "    for date in dates:\n",
    "        # if any datetime contains a time, remove the datetime\n",
    "        if len(str(date).split(' ')) > 1:\n",
    "            dates.remove(date)\n",
    "            continue\n",
    "    dates.sort()\n",
    "    \n",
    "    # Iterate over all the dataframes and for each date, if the date is not present in the dataframe, add a row with all values as 0\n",
    "    for i in range(len(dfs)):\n",
    "        for date in dates:\n",
    "            if date not in dfs[i]['Date'].values:\n",
    "                df = pd.DataFrame([[date, 0]], columns=dfs[i].columns)\n",
    "                dfs[i] = pd.concat([dfs[i], df], ignore_index=True)  \n",
    "        print(\"Shape of dataframe \", i, \" is: \", dfs[i].shape)\n",
    "        # sort the dataframe by Date\n",
    "        dfs[i] = dfs[i].sort_values(by='Date')\n",
    "        \n",
    "    \n",
    "    # remove null values from the dataframes\n",
    "    for df in dfs:\n",
    "        df['Affected'] = pd.to_numeric(df['Affected'], errors='coerce').fillna(0).astype(float)\n",
    "\n",
    "    return dfs\n",
    "    "
   ]
  },
  {
   "cell_type": "code",
   "execution_count": 70,
   "metadata": {},
   "outputs": [],
   "source": [
    "def write_to_excel(dfs, filenames, files_directory):\n",
    "    for i in range(len(dfs)):\n",
    "        dfs[i].to_excel(files_directory + filenames[i], index=False)"
   ]
  },
  {
   "cell_type": "code",
   "execution_count": 71,
   "metadata": {},
   "outputs": [],
   "source": [
    "def data_preprocessing(data_read_directory, coordinates_filepath, data_write_directory):\n",
    "    dfs, coordinates, filenames = read_files_and_coordinates(data_read_directory, coordinates_filepath)\n",
    "    print(\"Data read successfully\")\n",
    "    print(\"Number of files read: \", len(dfs))\n",
    "    print(\"Number of coordinates read: \", len(coordinates))\n",
    "    dfs = make_dfs_equal_length(dfs)\n",
    "    write_to_excel(dfs, filenames, data_write_directory)\n",
    "    print(\"Data written successfully\")\n",
    "    return dfs, coordinates, filenames"
   ]
  },
  {
   "cell_type": "code",
   "execution_count": 72,
   "metadata": {},
   "outputs": [
    {
     "name": "stdout",
     "output_type": "stream",
     "text": [
      "Data read successfully\n",
      "Number of files read:  39\n",
      "Number of coordinates read:  39\n",
      "Number of unique dates:  720\n",
      "Shape of dataframe  0  is:  (720, 2)\n",
      "Shape of dataframe  1  is:  (720, 2)\n",
      "Shape of dataframe  2  is:  (720, 2)\n",
      "Shape of dataframe  3  is:  (720, 2)\n",
      "Shape of dataframe  4  is:  (720, 2)\n",
      "Shape of dataframe  5  is:  (720, 2)\n",
      "Shape of dataframe  6  is:  (720, 2)\n",
      "Shape of dataframe  7  is:  (720, 2)\n",
      "Shape of dataframe  8  is:  (720, 2)\n",
      "Shape of dataframe  9  is:  (720, 2)\n",
      "Shape of dataframe  10  is:  (720, 2)\n",
      "Shape of dataframe  11  is:  (720, 2)\n",
      "Shape of dataframe  12  is:  (720, 2)\n",
      "Shape of dataframe  13  is:  (720, 2)\n",
      "Shape of dataframe  14  is:  (720, 2)\n",
      "Shape of dataframe  15  is:  (720, 2)\n",
      "Shape of dataframe  16  is:  (720, 2)\n",
      "Shape of dataframe  17  is:  (720, 2)\n",
      "Shape of dataframe  18  is:  (720, 2)\n",
      "Shape of dataframe  19  is:  (720, 2)\n",
      "Shape of dataframe  20  is:  (720, 2)\n",
      "Shape of dataframe  21  is:  (720, 2)\n",
      "Shape of dataframe  22  is:  (720, 2)\n",
      "Shape of dataframe  23  is:  (720, 2)\n",
      "Shape of dataframe  24  is:  (720, 2)\n",
      "Shape of dataframe  25  is:  (720, 2)\n",
      "Shape of dataframe  26  is:  (720, 2)\n",
      "Shape of dataframe  27  is:  (720, 2)\n",
      "Shape of dataframe  28  is:  (720, 2)\n",
      "Shape of dataframe  29  is:  (720, 2)\n",
      "Shape of dataframe  30  is:  (720, 2)\n",
      "Shape of dataframe  31  is:  (720, 2)\n",
      "Shape of dataframe  32  is:  (720, 2)\n",
      "Shape of dataframe  33  is:  (720, 2)\n",
      "Shape of dataframe  34  is:  (720, 2)\n",
      "Shape of dataframe  35  is:  (720, 2)\n",
      "Shape of dataframe  36  is:  (720, 2)\n",
      "Shape of dataframe  37  is:  (720, 2)\n",
      "Shape of dataframe  38  is:  (720, 2)\n",
      "Data written successfully\n"
     ]
    }
   ],
   "source": [
    "data_read_directory = \"../../Data/Processed data/\"\n",
    "coordinates_filepath = \"../../Data/coordinates.xlsx\"\n",
    "data_write_directory = \"../../Data/Hospital Dataset/\"\n",
    "\n",
    "dfs, coordinates, filenames = data_preprocessing(data_read_directory, coordinates_filepath, data_write_directory)"
   ]
  }
 ],
 "metadata": {
  "kernelspec": {
   "display_name": "Python 3",
   "language": "python",
   "name": "python3"
  },
  "language_info": {
   "codemirror_mode": {
    "name": "ipython",
    "version": 3
   },
   "file_extension": ".py",
   "mimetype": "text/x-python",
   "name": "python",
   "nbconvert_exporter": "python",
   "pygments_lexer": "ipython3",
   "version": "3.12.4"
  }
 },
 "nbformat": 4,
 "nbformat_minor": 2
}
