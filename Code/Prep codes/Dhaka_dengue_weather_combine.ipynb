{
 "cells": [
  {
   "cell_type": "code",
   "execution_count": 43,
   "metadata": {},
   "outputs": [],
   "source": [
    "import pandas as pd\n",
    "import numpy as np\n",
    "import openpyxl\n",
    "import os\n",
    "import glob"
   ]
  },
  {
   "cell_type": "code",
   "execution_count": 44,
   "metadata": {},
   "outputs": [
    {
     "data": {
      "text/plain": [
       "54"
      ]
     },
     "execution_count": 44,
     "metadata": {},
     "output_type": "execute_result"
    }
   ],
   "source": [
    "dengue_dfs = []\n",
    "\n",
    "dir = \"../../Data/Processed Data/Dhaka Hospitals Dataset\"\n",
    "filenames = []\n",
    "\n",
    "for file in os.listdir(dir):\n",
    "    if file.endswith(\".xlsx\"):\n",
    "        dengue_dfs.append(pd.read_excel(os.path.join(dir, file)))\n",
    "        filenames.append(file)\n",
    "\n",
    "len(dengue_dfs)"
   ]
  },
  {
   "cell_type": "code",
   "execution_count": 45,
   "metadata": {},
   "outputs": [],
   "source": [
    "# print the shape of the dataframes which is not (720,2)\n",
    "for df in dengue_dfs:\n",
    "    if df.shape != (720, 2):\n",
    "        print(df.shape)"
   ]
  },
  {
   "cell_type": "code",
   "execution_count": 46,
   "metadata": {},
   "outputs": [
    {
     "data": {
      "text/html": [
       "<div>\n",
       "<style scoped>\n",
       "    .dataframe tbody tr th:only-of-type {\n",
       "        vertical-align: middle;\n",
       "    }\n",
       "\n",
       "    .dataframe tbody tr th {\n",
       "        vertical-align: top;\n",
       "    }\n",
       "\n",
       "    .dataframe thead th {\n",
       "        text-align: right;\n",
       "    }\n",
       "</style>\n",
       "<table border=\"1\" class=\"dataframe\">\n",
       "  <thead>\n",
       "    <tr style=\"text-align: right;\">\n",
       "      <th></th>\n",
       "      <th>DATE</th>\n",
       "      <th>T2MDEW</th>\n",
       "      <th>T2M</th>\n",
       "      <th>RH2M</th>\n",
       "      <th>WS10M</th>\n",
       "    </tr>\n",
       "  </thead>\n",
       "  <tbody>\n",
       "    <tr>\n",
       "      <th>0</th>\n",
       "      <td>9/1/2019</td>\n",
       "      <td>27.05</td>\n",
       "      <td>29.83</td>\n",
       "      <td>85.75</td>\n",
       "      <td>1.33</td>\n",
       "    </tr>\n",
       "    <tr>\n",
       "      <th>1</th>\n",
       "      <td>9/2/2019</td>\n",
       "      <td>26.58</td>\n",
       "      <td>28.70</td>\n",
       "      <td>88.69</td>\n",
       "      <td>3.20</td>\n",
       "    </tr>\n",
       "    <tr>\n",
       "      <th>2</th>\n",
       "      <td>9/3/2019</td>\n",
       "      <td>26.75</td>\n",
       "      <td>28.62</td>\n",
       "      <td>89.88</td>\n",
       "      <td>4.31</td>\n",
       "    </tr>\n",
       "    <tr>\n",
       "      <th>3</th>\n",
       "      <td>9/4/2019</td>\n",
       "      <td>26.90</td>\n",
       "      <td>28.28</td>\n",
       "      <td>92.31</td>\n",
       "      <td>3.69</td>\n",
       "    </tr>\n",
       "    <tr>\n",
       "      <th>4</th>\n",
       "      <td>9/5/2019</td>\n",
       "      <td>26.62</td>\n",
       "      <td>28.19</td>\n",
       "      <td>91.31</td>\n",
       "      <td>4.05</td>\n",
       "    </tr>\n",
       "  </tbody>\n",
       "</table>\n",
       "</div>"
      ],
      "text/plain": [
       "       DATE  T2MDEW    T2M   RH2M  WS10M\n",
       "0  9/1/2019   27.05  29.83  85.75   1.33\n",
       "1  9/2/2019   26.58  28.70  88.69   3.20\n",
       "2  9/3/2019   26.75  28.62  89.88   4.31\n",
       "3  9/4/2019   26.90  28.28  92.31   3.69\n",
       "4  9/5/2019   26.62  28.19  91.31   4.05"
      ]
     },
     "execution_count": 46,
     "metadata": {},
     "output_type": "execute_result"
    }
   ],
   "source": [
    "dhaka_weather_file =  \"../../Data/Processed Data/Weather Dataset/Dhaka.csv\"\n",
    "\n",
    "dhaka_weather = pd.read_csv(dhaka_weather_file)\n",
    "\n",
    "dhaka_weather.head()"
   ]
  },
  {
   "cell_type": "code",
   "execution_count": 47,
   "metadata": {},
   "outputs": [],
   "source": [
    "#convert the DATE column format from dd/mm/yyyy to yyyy/mm/dd\n",
    "dhaka_weather['DATE'] = pd.to_datetime(dhaka_weather['DATE'], format='mixed').dt.strftime('%Y/%m/%d')"
   ]
  },
  {
   "cell_type": "code",
   "execution_count": 48,
   "metadata": {},
   "outputs": [
    {
     "data": {
      "text/plain": [
       "0      2019/09/01\n",
       "1      2019/09/02\n",
       "2      2019/09/03\n",
       "3      2019/09/04\n",
       "4      2019/09/05\n",
       "          ...    \n",
       "715    2023/12/22\n",
       "716    2023/12/23\n",
       "717    2023/12/24\n",
       "718    2023/12/25\n",
       "719    2023/12/26\n",
       "Name: Date, Length: 720, dtype: object"
      ]
     },
     "execution_count": 48,
     "metadata": {},
     "output_type": "execute_result"
    }
   ],
   "source": [
    "dengue_dfs[0]['Date']"
   ]
  },
  {
   "cell_type": "code",
   "execution_count": 49,
   "metadata": {},
   "outputs": [
    {
     "data": {
      "text/plain": [
       "0"
      ]
     },
     "execution_count": 49,
     "metadata": {},
     "output_type": "execute_result"
    }
   ],
   "source": [
    "# how many date are different in the two datasets\n",
    "len(set(dengue_dfs[0]['Date']) - set(dhaka_weather['DATE']))"
   ]
  },
  {
   "cell_type": "code",
   "execution_count": 50,
   "metadata": {},
   "outputs": [
    {
     "name": "stdout",
     "output_type": "stream",
     "text": [
      "(720, 7)\n",
      "(720, 7)\n",
      "(720, 7)\n",
      "(720, 7)\n",
      "(720, 7)\n",
      "(720, 7)\n",
      "(720, 7)\n",
      "(720, 7)\n",
      "(720, 7)\n",
      "(720, 7)\n",
      "(720, 7)\n",
      "(720, 7)\n",
      "(720, 7)\n",
      "(720, 7)\n",
      "(720, 7)\n",
      "(720, 7)\n",
      "(720, 7)\n",
      "(720, 7)\n",
      "(720, 7)\n",
      "(720, 7)\n",
      "(720, 7)\n",
      "(720, 7)\n",
      "(720, 7)\n",
      "(720, 7)\n",
      "(720, 7)\n",
      "(720, 7)\n",
      "(720, 7)\n",
      "(720, 7)\n",
      "(720, 7)\n",
      "(720, 7)\n",
      "(720, 7)\n",
      "(720, 7)\n",
      "(720, 7)\n",
      "(720, 7)\n",
      "(720, 7)\n",
      "(720, 7)\n",
      "(720, 7)\n",
      "(720, 7)\n",
      "(720, 7)\n",
      "(720, 7)\n",
      "(720, 7)\n",
      "(720, 7)\n",
      "(720, 7)\n",
      "(720, 7)\n",
      "(720, 7)\n",
      "(720, 7)\n",
      "(720, 7)\n",
      "(720, 7)\n",
      "(720, 7)\n",
      "(720, 7)\n",
      "(720, 7)\n",
      "(720, 7)\n",
      "(720, 7)\n",
      "(720, 7)\n"
     ]
    }
   ],
   "source": [
    "# for each dataframe of dengue_dfs, if the 'DATE' column of dhaka_weather is in the 'Date' column of the dataframe, merge the two dataframes\n",
    "merged_dfs = []\n",
    "\n",
    "for df in dengue_dfs:\n",
    "    df = pd.merge(df, dhaka_weather, left_on='Date', right_on='DATE')\n",
    "    print(df.shape)\n",
    "    merged_dfs.append(df)\n"
   ]
  },
  {
   "cell_type": "code",
   "execution_count": 51,
   "metadata": {},
   "outputs": [
    {
     "data": {
      "text/html": [
       "<div>\n",
       "<style scoped>\n",
       "    .dataframe tbody tr th:only-of-type {\n",
       "        vertical-align: middle;\n",
       "    }\n",
       "\n",
       "    .dataframe tbody tr th {\n",
       "        vertical-align: top;\n",
       "    }\n",
       "\n",
       "    .dataframe thead th {\n",
       "        text-align: right;\n",
       "    }\n",
       "</style>\n",
       "<table border=\"1\" class=\"dataframe\">\n",
       "  <thead>\n",
       "    <tr style=\"text-align: right;\">\n",
       "      <th></th>\n",
       "      <th>Date</th>\n",
       "      <th>Affected</th>\n",
       "      <th>T2MDEW</th>\n",
       "      <th>T2M</th>\n",
       "      <th>RH2M</th>\n",
       "      <th>WS10M</th>\n",
       "    </tr>\n",
       "  </thead>\n",
       "  <tbody>\n",
       "    <tr>\n",
       "      <th>0</th>\n",
       "      <td>2019/09/01</td>\n",
       "      <td>0</td>\n",
       "      <td>27.05</td>\n",
       "      <td>29.83</td>\n",
       "      <td>85.75</td>\n",
       "      <td>1.33</td>\n",
       "    </tr>\n",
       "    <tr>\n",
       "      <th>1</th>\n",
       "      <td>2019/09/02</td>\n",
       "      <td>0</td>\n",
       "      <td>26.58</td>\n",
       "      <td>28.70</td>\n",
       "      <td>88.69</td>\n",
       "      <td>3.20</td>\n",
       "    </tr>\n",
       "    <tr>\n",
       "      <th>2</th>\n",
       "      <td>2019/09/03</td>\n",
       "      <td>0</td>\n",
       "      <td>26.75</td>\n",
       "      <td>28.62</td>\n",
       "      <td>89.88</td>\n",
       "      <td>4.31</td>\n",
       "    </tr>\n",
       "    <tr>\n",
       "      <th>3</th>\n",
       "      <td>2019/09/04</td>\n",
       "      <td>0</td>\n",
       "      <td>26.90</td>\n",
       "      <td>28.28</td>\n",
       "      <td>92.31</td>\n",
       "      <td>3.69</td>\n",
       "    </tr>\n",
       "    <tr>\n",
       "      <th>4</th>\n",
       "      <td>2019/09/05</td>\n",
       "      <td>0</td>\n",
       "      <td>26.62</td>\n",
       "      <td>28.19</td>\n",
       "      <td>91.31</td>\n",
       "      <td>4.05</td>\n",
       "    </tr>\n",
       "  </tbody>\n",
       "</table>\n",
       "</div>"
      ],
      "text/plain": [
       "         Date  Affected  T2MDEW    T2M   RH2M  WS10M\n",
       "0  2019/09/01         0   27.05  29.83  85.75   1.33\n",
       "1  2019/09/02         0   26.58  28.70  88.69   3.20\n",
       "2  2019/09/03         0   26.75  28.62  89.88   4.31\n",
       "3  2019/09/04         0   26.90  28.28  92.31   3.69\n",
       "4  2019/09/05         0   26.62  28.19  91.31   4.05"
      ]
     },
     "execution_count": 51,
     "metadata": {},
     "output_type": "execute_result"
    }
   ],
   "source": [
    "#remove the 'DATE' column from the merged dataframes\n",
    "for df in merged_dfs:\n",
    "    df.drop(columns='DATE', inplace=True)\n",
    "\n",
    "merged_dfs[0].head()"
   ]
  },
  {
   "cell_type": "code",
   "execution_count": 52,
   "metadata": {},
   "outputs": [
    {
     "name": "stdout",
     "output_type": "stream",
     "text": [
      "250 shojja.xlsx saved\n",
      "31 shojja.xlsx saved\n",
      "ad-din.xlsx saved\n",
      "aichi.xlsx saved\n",
      "Al manar.xlsx saved\n",
      "amz hospital.xlsx saved\n",
      "Anowar khan.xlsx saved\n",
      "Apollo.xlsx saved\n",
      "azgor ali.xlsx saved\n",
      "Bangladesh Medical College Hospital.xlsx saved\n",
      "BD Specialized hospital.xlsx saved\n",
      "BGB Hospital.xlsx saved\n",
      "BIRDEM.xlsx saved\n",
      "brb hospital.xlsx saved\n",
      "BSSMU.xlsx saved\n",
      "Comfort Nursing.xlsx saved\n",
      "Dedicated Covid-19 Hospital.xlsx saved\n",
      "Delta medical.xlsx saved\n",
      "Dhaka central.xlsx saved\n",
      "Dhaka healthcare.xlsx saved\n",
      "Dhaka Mahanagar Medical College.xlsx saved\n",
      "Dhaka Mahanagar Shishu Hospital.xlsx saved\n",
      "Dhaka Shishu Hospital.xlsx saved\n",
      "dmd central.xlsx saved\n",
      "Enam medical.xlsx saved\n",
      "Exim bank.xlsx saved\n",
      "farabi general.xlsx saved\n",
      "Govt. Kormochari Hospital.xlsx saved\n",
      "Green Life Hospital.xlsx saved\n",
      "h&h.xlsx saved\n",
      "hfrc.xlsx saved\n",
      "High Care Hospital.xlsx saved\n",
      "ibn sina.xlsx saved\n",
      "islami bank.xlsx saved\n",
      "Japan BD hospital.xlsx saved\n",
      "Life & care hospital.xlsx saved\n",
      "lstm_dmc.xlsx saved\n",
      "Medical college for women.xlsx saved\n",
      "Metropoliton medical.xlsx saved\n",
      "monowara hospital.xlsx saved\n",
      "police hospital.xlsx saved\n",
      "popular medical.xlsx saved\n",
      "Sajeda hospital.xlsx saved\n",
      "salauddin hospital.xlsx saved\n",
      "Shomkramok Byadhi Hospital.xlsx saved\n",
      "Shommilito Shamorik Hospital,Savar.xlsx saved\n",
      "Shommilito Shamorik Hospital.xlsx saved\n",
      "shomorita.xlsx saved\n",
      "Square.xlsx saved\n",
      "ssmc.xlsx saved\n",
      "united hospital.xlsx saved\n",
      "universal.xlsx saved\n",
      "Uttara adhunik.xlsx saved\n",
      "Uttara crescent.xlsx saved\n"
     ]
    }
   ],
   "source": [
    "dir = \"../../Data/Processed Data/Dhaka hospital weather combined\"\n",
    "\n",
    "# save the merged dataframes to excel files in the directory with exactly the same name as the original files\n",
    "for i, df in enumerate(merged_dfs):\n",
    "    df.to_excel(os.path.join(dir, filenames[i]), index=False)\n",
    "    print(filenames[i], \"saved\")"
   ]
  }
 ],
 "metadata": {
  "kernelspec": {
   "display_name": "base",
   "language": "python",
   "name": "python3"
  },
  "language_info": {
   "codemirror_mode": {
    "name": "ipython",
    "version": 3
   },
   "file_extension": ".py",
   "mimetype": "text/x-python",
   "name": "python",
   "nbconvert_exporter": "python",
   "pygments_lexer": "ipython3",
   "version": "3.12.4"
  }
 },
 "nbformat": 4,
 "nbformat_minor": 2
}
