{
 "cells": [
  {
   "cell_type": "code",
   "execution_count": 1,
   "metadata": {},
   "outputs": [],
   "source": [
    "import pandas as pd\n",
    "import numpy as np\n",
    "import openpyxl"
   ]
  },
  {
   "cell_type": "code",
   "execution_count": 2,
   "metadata": {},
   "outputs": [],
   "source": [
    "def keep_data_tables(filePath,sheetName1,sheetName2):\n",
    "    workbook = openpyxl.load_workbook(filePath)    \n",
    "    table_names = workbook.sheetnames\n",
    "\n",
    "    tables_to_keep = [sheetName1,sheetName2]  \n",
    "    for table_name in table_names:\n",
    "        if table_name not in tables_to_keep:\n",
    "            del workbook[table_name]\n",
    "\n",
    "    \n",
    "    workbook.save(filePath)    \n",
    "    workbook.close()"
   ]
  },
  {
   "cell_type": "code",
   "execution_count": 3,
   "metadata": {},
   "outputs": [],
   "source": [
    "def remove_pictures(filePath):    \n",
    "    workbook = openpyxl.load_workbook(filePath)    \n",
    "    for sheet_name in workbook.sheetnames:\n",
    "        sheet = workbook[sheet_name]\n",
    "        for img in sheet._images:\n",
    "            sheet._images.remove(img)    \n",
    "    workbook.save(filePath)"
   ]
  },
  {
   "cell_type": "code",
   "execution_count": 4,
   "metadata": {},
   "outputs": [],
   "source": [
    "def delete_rows_from_first_sheet(filePath, sheetName, rows_to_delete):\n",
    "    df = pd.read_excel(filePath, sheet_name=sheetName)\n",
    "\n",
    "    df = df.drop(rows_to_delete)\n",
    "\n",
    "    with pd.ExcelWriter(filePath, engine='openpyxl', mode='a', if_sheet_exists='replace') as writer:\n",
    "        df.to_excel(writer, sheet_name=sheetName, index=False)"
   ]
  },
  {
   "cell_type": "code",
   "execution_count": 5,
   "metadata": {},
   "outputs": [],
   "source": [
    "def delete_rows_from_second_sheet(filePath, sheetName, rows_to_delete):\n",
    "    df = pd.read_excel(filePath, sheet_name=sheetName)\n",
    "    df = df.drop(rows_to_delete)\n",
    "\n",
    "    with pd.ExcelWriter(filePath, engine='openpyxl', mode='a', if_sheet_exists='replace') as writer:\n",
    "        df.to_excel(writer, sheet_name=sheetName, index=False)"
   ]
  },
  {
   "cell_type": "code",
   "execution_count": 6,
   "metadata": {},
   "outputs": [],
   "source": [
    "def delete_non_data_rows(filePath, sheetName1, sheetName2, rows_to_delete1, rows_to_delete2):\n",
    "    delete_rows_from_first_sheet(filePath,sheetName1, rows_to_delete1)\n",
    "    delete_rows_from_second_sheet(filePath,sheetName2, rows_to_delete2)"
   ]
  },
  {
   "cell_type": "code",
   "execution_count": 7,
   "metadata": {},
   "outputs": [],
   "source": [
    "def delete_hospital_name_column(filePath,sheetName):\n",
    "    df = pd.read_excel(filePath, sheet_name=sheetName)\n",
    "    df.drop(df.columns[1], axis=1, inplace=True)\n",
    "\n",
    "    with pd.ExcelWriter(filePath, engine='openpyxl', mode='a', if_sheet_exists='replace') as writer:\n",
    "        df.to_excel(writer, sheet_name=sheetName, index=False)"
   ]
  },
  {
   "cell_type": "code",
   "execution_count": 8,
   "metadata": {},
   "outputs": [],
   "source": [
    "def convert_numerals_benTOeng(filePath, sheet_name):\n",
    "    bengali_to_english = {\n",
    "        '০': '0',\n",
    "        '১': '1',\n",
    "        '২': '2',\n",
    "        '৩': '3',\n",
    "        '৪': '4',\n",
    "        '৫': '5',\n",
    "        '৬': '6',\n",
    "        '৭': '7',\n",
    "        '৮': '8',\n",
    "        '৯': '9',\n",
    "    }\n",
    "\n",
    "    workbook = openpyxl.load_workbook(filePath)\n",
    "\n",
    "   \n",
    "    worksheet = workbook[sheet_name]\n",
    "\n",
    "\n",
    "    for row in worksheet.iter_rows():\n",
    "        for cell in row:\n",
    "            if cell is not None and isinstance(cell.value, str):\n",
    "                cell.value = ''.join(bengali_to_english.get(char, char) for char in cell.value)\n",
    "\n",
    " \n",
    "    workbook.save(filePath)  \n"
   ]
  },
  {
   "cell_type": "code",
   "execution_count": 9,
   "metadata": {},
   "outputs": [],
   "source": [
    "def merge_two_tables(filePath, sheet1, sheet2):\n",
    "    df1 = pd.read_excel(filePath,sheet1)\n",
    "    df2 = pd.read_excel(filePath,sheet2)\n",
    "    merged_df = pd.concat([df1, df2], axis=0, ignore_index=True)\n",
    "    with pd.ExcelWriter(filePath, engine='openpyxl', mode='a', if_sheet_exists='replace') as writer:\n",
    "        merged_df.to_excel(writer, sheet_name='MergedSheet', index=False)   "
   ]
  },
  {
   "cell_type": "code",
   "execution_count": 10,
   "metadata": {},
   "outputs": [],
   "source": [
    "def preprocessing(filePath, sheetName1, sheetName2, rows_to_delete1, rows_to_delete2):\n",
    "    keep_data_tables(filePath,sheetName1,sheetName2)\n",
    "    remove_pictures(filePath)\n",
    "    delete_non_data_rows(filePath, sheetName1, sheetName2, rows_to_delete1, rows_to_delete2)\n",
    "    # delete_hospital_name_column(filePath, sheetName1)\n",
    "    # delete_hospital_name_column(filePath, sheetName2)\n",
    "    convert_numerals_benTOeng(filePath,sheetName1)\n",
    "    convert_numerals_benTOeng(filePath,sheetName2)\n",
    "    # merge_two_tables()"
   ]
  },
  {
   "cell_type": "code",
   "execution_count": 11,
   "metadata": {},
   "outputs": [],
   "source": [
    "import os\n",
    "import glob"
   ]
  },
  {
   "cell_type": "code",
   "execution_count": 12,
   "metadata": {},
   "outputs": [],
   "source": [
    "directory_path = '2023-06/s'\n",
    "excel_files = glob.glob(os.path.join(directory_path, '*.xlsx'))\n",
    "r1 = [0, 1, 2]\n",
    "r2 = [0, 1]\n",
    "sheetName1 = \"Table 17\"\n",
    "sheetName2 = \"Table 19\"\n",
    "for filePath in excel_files:\n",
    "    preprocessing(filePath,sheetName1,sheetName2,r1,r2)\n",
    "    print(filePath + \" completed\")"
   ]
  }
 ],
 "metadata": {
  "kernelspec": {
   "display_name": "base",
   "language": "python",
   "name": "python3"
  },
  "language_info": {
   "codemirror_mode": {
    "name": "ipython",
    "version": 3
   },
   "file_extension": ".py",
   "mimetype": "text/x-python",
   "name": "python",
   "nbconvert_exporter": "python",
   "pygments_lexer": "ipython3",
   "version": "3.9.7"
  },
  "orig_nbformat": 4
 },
 "nbformat": 4,
 "nbformat_minor": 2
}
