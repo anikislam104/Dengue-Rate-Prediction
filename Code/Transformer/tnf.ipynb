{
 "cells": [
  {
   "cell_type": "code",
   "execution_count": 110,
   "metadata": {},
   "outputs": [],
   "source": [
    "import pandas as pd\n",
    "import numpy as np\n",
    "import openpyxl\n",
    "import os\n",
    "import glob\n",
    "import matplotlib.pyplot as plt"
   ]
  },
  {
   "cell_type": "code",
   "execution_count": 111,
   "metadata": {},
   "outputs": [],
   "source": [
    "def read_excel(file):\n",
    "    df = pd.read_excel(file)\n",
    "    return df\n",
    "\n",
    "df = read_excel('../../Data/Processed data/lstm_dmc.xlsx')"
   ]
  },
  {
   "cell_type": "code",
   "execution_count": 112,
   "metadata": {},
   "outputs": [],
   "source": [
    "# convert Date field to float\n",
    "df['Date'] = pd.to_datetime(df['Date'])\n",
    "df['Date'] = df['Date'].values.astype(float)\n",
    "#sort by date\n",
    "df = df.sort_values(by='Date')\n",
    "# for rows where df['Affected'] is null or non-numeric, replace with 0\n",
    "df['Affected'] = pd.to_numeric(df['Affected'], errors='coerce').fillna(0).astype(float)\n",
    "df.reset_index(drop=True, inplace=True)"
   ]
  },
  {
   "cell_type": "code",
   "execution_count": 113,
   "metadata": {},
   "outputs": [
    {
     "name": "stdout",
     "output_type": "stream",
     "text": [
      "num_epochs:  500  learning_rate:  0.001  batch_size:  32  window_size:  14  input_size:  11  num_layers:  1\n"
     ]
    }
   ],
   "source": [
    "# defining hyperparameters\n",
    "num_epochs = 500\n",
    "learning_rate = 0.001\n",
    "batch_size = 32\n",
    "window_size = 14\n",
    "prediction_window = 3\n",
    "input_size = window_size - prediction_window\n",
    "hidden_size = 64\n",
    "num_layers = 1\n",
    "\n",
    "print(\"num_epochs: \", num_epochs, \" learning_rate: \", learning_rate, \" batch_size: \", batch_size, \" window_size: \", window_size, \" input_size: \", input_size, \" num_layers: \", num_layers)"
   ]
  },
  {
   "cell_type": "code",
   "execution_count": 114,
   "metadata": {},
   "outputs": [],
   "source": [
    "\n",
    "def create_time_series_samples(df, window_size):\n",
    "    samples = []\n",
    "\n",
    "    for i in range(len(df) - window_size + 1):\n",
    "        sample = df.iloc[i:i + window_size]\n",
    "        samples.append(sample)\n",
    "\n",
    "    return samples\n",
    "\n",
    "\n",
    "\n",
    "samples = create_time_series_samples(df, window_size)"
   ]
  },
  {
   "cell_type": "code",
   "execution_count": 115,
   "metadata": {},
   "outputs": [
    {
     "data": {
      "text/html": [
       "<div>\n",
       "<style scoped>\n",
       "    .dataframe tbody tr th:only-of-type {\n",
       "        vertical-align: middle;\n",
       "    }\n",
       "\n",
       "    .dataframe tbody tr th {\n",
       "        vertical-align: top;\n",
       "    }\n",
       "\n",
       "    .dataframe thead th {\n",
       "        text-align: right;\n",
       "    }\n",
       "</style>\n",
       "<table border=\"1\" class=\"dataframe\">\n",
       "  <thead>\n",
       "    <tr style=\"text-align: right;\">\n",
       "      <th></th>\n",
       "      <th>0</th>\n",
       "      <th>1</th>\n",
       "      <th>2</th>\n",
       "      <th>3</th>\n",
       "      <th>4</th>\n",
       "      <th>5</th>\n",
       "      <th>6</th>\n",
       "      <th>7</th>\n",
       "      <th>8</th>\n",
       "      <th>9</th>\n",
       "      <th>10</th>\n",
       "      <th>11</th>\n",
       "      <th>12</th>\n",
       "      <th>13</th>\n",
       "    </tr>\n",
       "  </thead>\n",
       "  <tbody>\n",
       "    <tr>\n",
       "      <th>0</th>\n",
       "      <td>92.0</td>\n",
       "      <td>82.0</td>\n",
       "      <td>64.0</td>\n",
       "      <td>47.0</td>\n",
       "      <td>63.0</td>\n",
       "      <td>61.0</td>\n",
       "      <td>33.0</td>\n",
       "      <td>52.0</td>\n",
       "      <td>81.0</td>\n",
       "      <td>49.0</td>\n",
       "      <td>51.0</td>\n",
       "      <td>40.0</td>\n",
       "      <td>34.0</td>\n",
       "      <td>36.0</td>\n",
       "    </tr>\n",
       "    <tr>\n",
       "      <th>1</th>\n",
       "      <td>82.0</td>\n",
       "      <td>64.0</td>\n",
       "      <td>47.0</td>\n",
       "      <td>63.0</td>\n",
       "      <td>61.0</td>\n",
       "      <td>33.0</td>\n",
       "      <td>52.0</td>\n",
       "      <td>81.0</td>\n",
       "      <td>49.0</td>\n",
       "      <td>51.0</td>\n",
       "      <td>40.0</td>\n",
       "      <td>34.0</td>\n",
       "      <td>36.0</td>\n",
       "      <td>39.0</td>\n",
       "    </tr>\n",
       "    <tr>\n",
       "      <th>2</th>\n",
       "      <td>64.0</td>\n",
       "      <td>47.0</td>\n",
       "      <td>63.0</td>\n",
       "      <td>61.0</td>\n",
       "      <td>33.0</td>\n",
       "      <td>52.0</td>\n",
       "      <td>81.0</td>\n",
       "      <td>49.0</td>\n",
       "      <td>51.0</td>\n",
       "      <td>40.0</td>\n",
       "      <td>34.0</td>\n",
       "      <td>36.0</td>\n",
       "      <td>39.0</td>\n",
       "      <td>46.0</td>\n",
       "    </tr>\n",
       "    <tr>\n",
       "      <th>3</th>\n",
       "      <td>47.0</td>\n",
       "      <td>63.0</td>\n",
       "      <td>61.0</td>\n",
       "      <td>33.0</td>\n",
       "      <td>52.0</td>\n",
       "      <td>81.0</td>\n",
       "      <td>49.0</td>\n",
       "      <td>51.0</td>\n",
       "      <td>40.0</td>\n",
       "      <td>34.0</td>\n",
       "      <td>36.0</td>\n",
       "      <td>39.0</td>\n",
       "      <td>46.0</td>\n",
       "      <td>47.0</td>\n",
       "    </tr>\n",
       "    <tr>\n",
       "      <th>4</th>\n",
       "      <td>63.0</td>\n",
       "      <td>61.0</td>\n",
       "      <td>33.0</td>\n",
       "      <td>52.0</td>\n",
       "      <td>81.0</td>\n",
       "      <td>49.0</td>\n",
       "      <td>51.0</td>\n",
       "      <td>40.0</td>\n",
       "      <td>34.0</td>\n",
       "      <td>36.0</td>\n",
       "      <td>39.0</td>\n",
       "      <td>46.0</td>\n",
       "      <td>47.0</td>\n",
       "      <td>35.0</td>\n",
       "    </tr>\n",
       "  </tbody>\n",
       "</table>\n",
       "</div>"
      ],
      "text/plain": [
       "     0     1     2     3     4     5     6     7     8     9     10    11  \\\n",
       "0  92.0  82.0  64.0  47.0  63.0  61.0  33.0  52.0  81.0  49.0  51.0  40.0   \n",
       "1  82.0  64.0  47.0  63.0  61.0  33.0  52.0  81.0  49.0  51.0  40.0  34.0   \n",
       "2  64.0  47.0  63.0  61.0  33.0  52.0  81.0  49.0  51.0  40.0  34.0  36.0   \n",
       "3  47.0  63.0  61.0  33.0  52.0  81.0  49.0  51.0  40.0  34.0  36.0  39.0   \n",
       "4  63.0  61.0  33.0  52.0  81.0  49.0  51.0  40.0  34.0  36.0  39.0  46.0   \n",
       "\n",
       "     12    13  \n",
       "0  34.0  36.0  \n",
       "1  36.0  39.0  \n",
       "2  39.0  46.0  \n",
       "3  46.0  47.0  \n",
       "4  47.0  35.0  "
      ]
     },
     "execution_count": 115,
     "metadata": {},
     "output_type": "execute_result"
    }
   ],
   "source": [
    "affected_df = pd.DataFrame([sample['Affected'].values for sample in samples])\n",
    "affected_df.head()"
   ]
  },
  {
   "cell_type": "code",
   "execution_count": 116,
   "metadata": {},
   "outputs": [],
   "source": [
    "def train_test_split(df, split_ratio, shuffle):\n",
    "    if shuffle:\n",
    "        df = df.sample(frac=1)\n",
    "\n",
    "    split_index = int(len(df) * split_ratio)\n",
    "    train = df[:split_index]\n",
    "    test = df[split_index:]\n",
    "\n",
    "    return train, test\n",
    "\n",
    "train_df , test_df = train_test_split(affected_df, 0.8, True)"
   ]
  },
  {
   "cell_type": "code",
   "execution_count": 117,
   "metadata": {},
   "outputs": [],
   "source": [
    "def split_X_y(df):\n",
    "    #last prediction_window columns are y\n",
    "    y = df.iloc[:, -prediction_window:]\n",
    "    #first window_size - prediction_window columns are X\n",
    "    X = df.iloc[:, :input_size]\n",
    "    return X, y\n",
    "\n",
    "X_train, y_train = split_X_y(train_df)\n",
    "X_test, y_test = split_X_y(test_df)"
   ]
  },
  {
   "cell_type": "code",
   "execution_count": 118,
   "metadata": {},
   "outputs": [],
   "source": [
    "# Run transformer model from pytorch on Train and Test data\n",
    "import torch\n",
    "import torch.nn as nn\n",
    "import torch.nn.functional as F\n",
    "from torch.utils.data import TensorDataset, DataLoader\n",
    "\n",
    "X_train_tensor = torch.tensor(X_train.values).float()\n",
    "y_train_tensor = torch.tensor(y_train.values).float()\n",
    "X_test_tensor = torch.tensor(X_test.values).float()\n",
    "y_test_tensor = torch.tensor(y_test.values).float()\n"
   ]
  },
  {
   "cell_type": "code",
   "execution_count": null,
   "metadata": {},
   "outputs": [],
   "source": []
  },
  {
   "cell_type": "code",
   "execution_count": 119,
   "metadata": {},
   "outputs": [],
   "source": [
    "train_loader = DataLoader(TensorDataset(X_train_tensor, y_train_tensor), batch_size=batch_size, shuffle=True)\n",
    "test_loader = DataLoader(TensorDataset(X_test_tensor, y_test_tensor), batch_size=batch_size, shuffle=False)"
   ]
  },
  {
   "cell_type": "code",
   "execution_count": 120,
   "metadata": {},
   "outputs": [
    {
     "data": {
      "text/plain": [
       "(18, 5)"
      ]
     },
     "execution_count": 120,
     "metadata": {},
     "output_type": "execute_result"
    }
   ],
   "source": [
    "len(train_loader), len(test_loader)"
   ]
  },
  {
   "cell_type": "code",
   "execution_count": 121,
   "metadata": {},
   "outputs": [],
   "source": [
    "class TransformerModel(nn.Module):\n",
    "    def __init__(self, input_size, hidden_size, num_layers):\n",
    "        super(TransformerModel, self).__init__()\n",
    "        self.encoder = nn.TransformerEncoderLayer(d_model=input_size, nhead=1)\n",
    "        self.fc = nn.Linear(input_size, hidden_size)\n",
    "        self.dropout = nn.Dropout(0.1)\n",
    "        self.output = nn.Linear(hidden_size, prediction_window)\n",
    "\n",
    "    def forward(self, x):\n",
    "        x = self.encoder(x)\n",
    "        x = self.fc(x)\n",
    "        x = self.dropout(x)\n",
    "        x = self.output(x)\n",
    "        return x\n",
    "model = TransformerModel(input_size, hidden_size, num_layers)"
   ]
  },
  {
   "cell_type": "code",
   "execution_count": 122,
   "metadata": {},
   "outputs": [],
   "source": [
    "# Loss and optimizer\n",
    "criterion = nn.MSELoss()\n",
    "optimizer = torch.optim.Adam(model.parameters(), lr=learning_rate)"
   ]
  },
  {
   "cell_type": "code",
   "execution_count": 123,
   "metadata": {},
   "outputs": [
    {
     "name": "stderr",
     "output_type": "stream",
     "text": [
      "e:\\Installation\\Anaconda\\lib\\site-packages\\torch\\nn\\modules\\loss.py:536: UserWarning: Using a target size (torch.Size([32, 1, 3])) that is different to the input size (torch.Size([32, 3])). This will likely lead to incorrect results due to broadcasting. Please ensure they have the same size.\n",
      "  return F.mse_loss(input, target, reduction=self.reduction)\n",
      "e:\\Installation\\Anaconda\\lib\\site-packages\\torch\\nn\\modules\\loss.py:536: UserWarning: Using a target size (torch.Size([4, 1, 3])) that is different to the input size (torch.Size([4, 3])). This will likely lead to incorrect results due to broadcasting. Please ensure they have the same size.\n",
      "  return F.mse_loss(input, target, reduction=self.reduction)\n"
     ]
    },
    {
     "name": "stdout",
     "output_type": "stream",
     "text": [
      "Epoch [50/500], Loss: 281.7710\n",
      "Epoch [100/500], Loss: 231.9990\n",
      "Epoch [150/500], Loss: 498.8440\n",
      "Epoch [200/500], Loss: 789.4039\n",
      "Epoch [250/500], Loss: 237.6857\n",
      "Epoch [300/500], Loss: 232.7728\n",
      "Epoch [350/500], Loss: 802.0378\n",
      "Epoch [400/500], Loss: 490.2143\n",
      "Epoch [450/500], Loss: 2123.8118\n",
      "Epoch [500/500], Loss: 434.4754\n"
     ]
    }
   ],
   "source": [
    "#train the model\n",
    "for epoch in range(num_epochs):\n",
    "    for i, (X, y) in enumerate(train_loader):\n",
    "        # Forward pass\n",
    "        outputs = model(X)\n",
    "        loss = criterion(outputs, y.unsqueeze(1))\n",
    "\n",
    "        # Backward and optimize\n",
    "        optimizer.zero_grad()\n",
    "        loss.backward()\n",
    "        optimizer.step()\n",
    "\n",
    "    if (epoch + 1) % 50 == 0:\n",
    "        print(f'Epoch [{epoch + 1}/{num_epochs}], Loss: {loss.item():.4f}')"
   ]
  },
  {
   "cell_type": "code",
   "execution_count": 124,
   "metadata": {},
   "outputs": [
    {
     "name": "stdout",
     "output_type": "stream",
     "text": [
      "Test Accuracy of the model on the test data: 27.00729927007299 %\n"
     ]
    }
   ],
   "source": [
    "# Test the model\n",
    "predictions = []\n",
    "model.eval()\n",
    "with torch.no_grad():\n",
    "    correct = 0\n",
    "    total = 0\n",
    "    for X, y in test_loader:\n",
    "        outputs = model(X)\n",
    "        predicted = torch.round(outputs)\n",
    "        predictions.append(predicted)\n",
    "        total += y.size(0)\n",
    "        correct += (predicted == y.unsqueeze(1)).sum().item()\n",
    "\n",
    "    print('Test Accuracy of the model on the test data: {} %'.format(100 * correct / total))"
   ]
  },
  {
   "cell_type": "code",
   "execution_count": 125,
   "metadata": {},
   "outputs": [
    {
     "data": {
      "text/plain": [
       "[tensor([[19., 19., 19.],\n",
       "         [19., 19., 19.],\n",
       "         [19., 19., 19.],\n",
       "         [19., 19., 19.],\n",
       "         [19., 19., 19.],\n",
       "         [19., 19., 19.],\n",
       "         [19., 19., 19.],\n",
       "         [19., 19., 19.],\n",
       "         [19., 19., 19.],\n",
       "         [19., 19., 19.],\n",
       "         [19., 19., 19.],\n",
       "         [19., 19., 19.],\n",
       "         [19., 19., 19.],\n",
       "         [19., 19., 19.],\n",
       "         [19., 19., 19.],\n",
       "         [19., 19., 19.],\n",
       "         [19., 19., 19.],\n",
       "         [19., 19., 19.],\n",
       "         [19., 19., 19.],\n",
       "         [19., 19., 19.],\n",
       "         [19., 19., 19.],\n",
       "         [19., 19., 19.],\n",
       "         [19., 19., 19.],\n",
       "         [19., 19., 19.],\n",
       "         [19., 19., 19.],\n",
       "         [19., 19., 19.],\n",
       "         [19., 19., 19.],\n",
       "         [19., 19., 19.],\n",
       "         [19., 19., 19.],\n",
       "         [19., 19., 19.],\n",
       "         [19., 19., 19.],\n",
       "         [19., 19., 19.]]),\n",
       " tensor([[19., 19., 19.],\n",
       "         [19., 19., 19.],\n",
       "         [19., 19., 19.],\n",
       "         [19., 19., 19.],\n",
       "         [19., 19., 19.],\n",
       "         [19., 19., 19.],\n",
       "         [19., 19., 19.],\n",
       "         [19., 19., 19.],\n",
       "         [19., 19., 19.],\n",
       "         [19., 19., 19.],\n",
       "         [19., 19., 19.],\n",
       "         [19., 19., 19.],\n",
       "         [19., 19., 19.],\n",
       "         [19., 19., 19.],\n",
       "         [19., 19., 19.],\n",
       "         [19., 19., 19.],\n",
       "         [19., 19., 19.],\n",
       "         [19., 19., 19.],\n",
       "         [19., 19., 19.],\n",
       "         [19., 19., 19.],\n",
       "         [19., 19., 19.],\n",
       "         [19., 19., 19.],\n",
       "         [19., 19., 19.],\n",
       "         [19., 19., 19.],\n",
       "         [19., 19., 19.],\n",
       "         [19., 19., 19.],\n",
       "         [19., 19., 19.],\n",
       "         [19., 19., 19.],\n",
       "         [19., 19., 19.],\n",
       "         [19., 19., 19.],\n",
       "         [19., 19., 19.],\n",
       "         [19., 19., 19.]]),\n",
       " tensor([[20., 20., 20.],\n",
       "         [20., 20., 20.],\n",
       "         [20., 20., 20.],\n",
       "         [20., 20., 20.],\n",
       "         [20., 20., 20.],\n",
       "         [20., 20., 19.],\n",
       "         [20., 20., 20.],\n",
       "         [20., 20., 20.],\n",
       "         [20., 20., 20.],\n",
       "         [20., 20., 20.],\n",
       "         [20., 20., 20.],\n",
       "         [20., 20., 20.],\n",
       "         [20., 20., 20.],\n",
       "         [19., 19., 19.],\n",
       "         [20., 20., 19.],\n",
       "         [20., 20., 20.],\n",
       "         [20., 20., 20.],\n",
       "         [20., 20., 20.],\n",
       "         [20., 20., 20.],\n",
       "         [20., 20., 20.],\n",
       "         [20., 20., 20.],\n",
       "         [20., 20., 19.],\n",
       "         [20., 20., 19.],\n",
       "         [20., 20., 20.],\n",
       "         [20., 20., 19.],\n",
       "         [20., 20., 20.],\n",
       "         [20., 20., 20.],\n",
       "         [20., 20., 20.],\n",
       "         [20., 20., 20.],\n",
       "         [20., 20., 20.],\n",
       "         [20., 20., 20.],\n",
       "         [20., 20., 20.]]),\n",
       " tensor([[20., 20., 20.],\n",
       "         [20., 20., 20.],\n",
       "         [20., 20., 20.],\n",
       "         [20., 20., 20.],\n",
       "         [20., 20., 20.],\n",
       "         [19., 19., 19.],\n",
       "         [20., 20., 20.],\n",
       "         [20., 20., 20.],\n",
       "         [20., 20., 20.],\n",
       "         [20., 20., 20.],\n",
       "         [19., 19., 19.],\n",
       "         [20., 20., 20.],\n",
       "         [20., 20., 19.],\n",
       "         [20., 20., 20.],\n",
       "         [20., 20., 20.],\n",
       "         [19., 19., 19.],\n",
       "         [20., 20., 20.],\n",
       "         [20., 20., 20.],\n",
       "         [20., 20., 20.],\n",
       "         [20., 20., 20.],\n",
       "         [20., 20., 20.],\n",
       "         [20., 20., 20.],\n",
       "         [19., 19., 19.],\n",
       "         [19., 19., 19.],\n",
       "         [20., 20., 20.],\n",
       "         [20., 20., 20.],\n",
       "         [20., 20., 20.],\n",
       "         [20., 20., 20.],\n",
       "         [19., 19., 19.],\n",
       "         [20., 20., 20.],\n",
       "         [20., 20., 20.],\n",
       "         [20., 20., 20.]]),\n",
       " tensor([[19., 19., 19.],\n",
       "         [19., 19., 19.],\n",
       "         [19., 19., 19.],\n",
       "         [19., 19., 18.],\n",
       "         [19., 19., 19.],\n",
       "         [19., 19., 19.],\n",
       "         [19., 19., 19.],\n",
       "         [19., 19., 18.],\n",
       "         [19., 19., 19.]])]"
      ]
     },
     "execution_count": 125,
     "metadata": {},
     "output_type": "execute_result"
    }
   ],
   "source": [
    "predictions"
   ]
  },
  {
   "cell_type": "code",
   "execution_count": 126,
   "metadata": {},
   "outputs": [],
   "source": [
    "# get the first column of y_test_tensor\n",
    "y_test_1 = y_test_tensor[:, 0].numpy()"
   ]
  },
  {
   "cell_type": "code",
   "execution_count": 127,
   "metadata": {},
   "outputs": [
    {
     "data": {
      "text/plain": [
       "((137, 3), 5)"
      ]
     },
     "execution_count": 127,
     "metadata": {},
     "output_type": "execute_result"
    }
   ],
   "source": [
    "y_test.shape, len(predictions)"
   ]
  },
  {
   "cell_type": "code",
   "execution_count": 128,
   "metadata": {},
   "outputs": [],
   "source": [
    "# convert predictions to numpy array\n",
    "predictions_array = [prediction.numpy() for prediction in predictions]\n",
    "predictions_array = np.concatenate(predictions_array, axis=0)\n",
    "predictions_array.shape\n",
    "predicted_1 = predictions_array[:, 0]"
   ]
  },
  {
   "cell_type": "code",
   "execution_count": 131,
   "metadata": {},
   "outputs": [
    {
     "data": {
      "image/png": "[encoded data removed]",
      "text/plain": [
       "<Figure size 1008x576 with 1 Axes>"
      ]
     },
     "metadata": {
      "needs_background": "light"
     },
     "output_type": "display_data"
    }
   ],
   "source": [
    "#plot the predictions and actual \n",
    "plt.figure(figsize=(14, 8))\n",
    "plt.title(f'window_size={window_size}, hidden_size={hidden_size}, num_layers={num_layers}, lr={learning_rate}, batch_size={batch_size}, num_epochs={num_epochs},prediction_window={prediction_window}')\n",
    "plt.plot(y_test_1, label='Actual')\n",
    "plt.plot(predicted_1, label='Predicted')\n",
    "# plt.plot(y_test.values, label='Actual')\n",
    "# plt.plot(torch.cat(predictions).numpy(), label='Predicted')\n",
    "plt.legend()\n",
    "plt.show()"
   ]
  },
  {
   "cell_type": "code",
   "execution_count": 130,
   "metadata": {},
   "outputs": [
    {
     "name": "stdout",
     "output_type": "stream",
     "text": [
      "MAE:  18.75669099756691  MSE:  489.647201946472  RMSE:  22.127973290531422\n"
     ]
    }
   ],
   "source": [
    "#MAE, MSE, RMSE\n",
    "from sklearn.metrics import mean_absolute_error, mean_squared_error\n",
    "mae = mean_absolute_error(y_test.values, torch.cat(predictions).numpy())\n",
    "mse = mean_squared_error(y_test.values, torch.cat(predictions).numpy())\n",
    "rmse = np.sqrt(mse)\n",
    "mae, mse, rmse\n",
    "print(\"MAE: \", mae, \" MSE: \", mse, \" RMSE: \", rmse)"
   ]
  }
 ],
 "metadata": {
  "kernelspec": {
   "display_name": "base",
   "language": "python",
   "name": "python3"
  },
  "language_info": {
   "codemirror_mode": {
    "name": "ipython",
    "version": 3
   },
   "file_extension": ".py",
   "mimetype": "text/x-python",
   "name": "python",
   "nbconvert_exporter": "python",
   "pygments_lexer": "ipython3",
   "version": "3.9.7"
  }
 },
 "nbformat": 4,
 "nbformat_minor": 2
}
